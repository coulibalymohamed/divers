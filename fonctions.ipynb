{
  "nbformat": 4,
  "nbformat_minor": 0,
  "metadata": {
    "colab": {
      "provenance": [],
      "authorship_tag": "ABX9TyPEOhIvuQMPzrSAB6nLlvvj",
      "include_colab_link": true
    },
    "kernelspec": {
      "name": "python3",
      "display_name": "Python 3"
    },
    "language_info": {
      "name": "python"
    }
  },
  "cells": [
    {
      "cell_type": "markdown",
      "metadata": {
        "id": "view-in-github",
        "colab_type": "text"
      },
      "source": [
        "<a href=\"https://colab.research.google.com/github/coulibalymohamed/divers/blob/main/fonctions.ipynb\" target=\"_parent\"><img src=\"https://colab.research.google.com/assets/colab-badge.svg\" alt=\"Open In Colab\"/></a>"
      ]
    },
    {
      "cell_type": "markdown",
      "source": [],
      "metadata": {
        "id": "OaSGrVA5hvI_"
      }
    },
    {
      "cell_type": "code",
      "execution_count": null,
      "metadata": {
        "colab": {
          "base_uri": "https://localhost:8080/"
        },
        "id": "Npi4ZsaUoSg-",
        "outputId": "5196dca9-2e13-400d-cf4c-47d421e202cd"
      },
      "outputs": [
        {
          "output_type": "stream",
          "name": "stdout",
          "text": [
            "Master Telecom\n"
          ]
        }
      ],
      "source": [
        "message = \"Master Telecom\"\n",
        "print(message)"
      ]
    },
    {
      "cell_type": "code",
      "source": [
        "message = \"salut tout le monde\"\n",
        "print(message)\n",
        "message = \"Bonsoir\"\n",
        "print(message)"
      ],
      "metadata": {
        "colab": {
          "base_uri": "https://localhost:8080/"
        },
        "id": "LUChtQwavmYx",
        "outputId": "888830a9-0c9d-46c3-f71f-5c7c3c7f7f17"
      },
      "execution_count": null,
      "outputs": [
        {
          "output_type": "stream",
          "name": "stdout",
          "text": [
            "salut tout le monde\n",
            "Bonsoir\n"
          ]
        }
      ]
    },
    {
      "cell_type": "code",
      "source": [
        "\"Salut\""
      ],
      "metadata": {
        "colab": {
          "base_uri": "https://localhost:8080/",
          "height": 35
        },
        "id": "JOyjhM76xTsM",
        "outputId": "18968fc0-5061-4e32-af2a-2f609d8f4695"
      },
      "execution_count": null,
      "outputs": [
        {
          "output_type": "execute_result",
          "data": {
            "text/plain": [
              "'Salut'"
            ],
            "application/vnd.google.colaboratory.intrinsic+json": {
              "type": "string"
            }
          },
          "metadata": {},
          "execution_count": 4
        }
      ]
    },
    {
      "cell_type": "code",
      "source": [
        "'J\\'ai dit à mon ami: \"Python est mon langage préféré!\"'\n",
        "\"Le langage 'Python' porte le nom de Monty Python, pas du serpent.\"\n",
        "\"L'une des forces de Python est sa communauté diversifiée et solidaire.\""
      ],
      "metadata": {
        "colab": {
          "base_uri": "https://localhost:8080/",
          "height": 35
        },
        "id": "_moSwPcUxuKH",
        "outputId": "d4bb55c7-cd56-48bd-ccef-59e41a71bfd8"
      },
      "execution_count": null,
      "outputs": [
        {
          "output_type": "execute_result",
          "data": {
            "text/plain": [
              "\"L'une des forces de Python est sa communauté diversifiée et solidaire.\""
            ],
            "application/vnd.google.colaboratory.intrinsic+json": {
              "type": "string"
            }
          },
          "metadata": {},
          "execution_count": 5
        }
      ]
    },
    {
      "cell_type": "code",
      "source": [
        "print('J\\'ai dit à mon ami: \"Python est mon langage préféré!\"')\n",
        "print(\"Le langage 'Python' porte le nom de Monty Python, pas du serpent.\")\n",
        "print(\"L'une des forces de Python est sa communauté diversifiée et solidaire.\")"
      ],
      "metadata": {
        "colab": {
          "base_uri": "https://localhost:8080/"
        },
        "id": "eqs4Rup-zGl9",
        "outputId": "c0f1b8c3-fe15-45a3-f01e-91bda7e2999f"
      },
      "execution_count": null,
      "outputs": [
        {
          "output_type": "stream",
          "name": "stdout",
          "text": [
            "J'ai dit à mon ami: \"Python est mon langage préféré!\"\n",
            "Le langage 'Python' porte le nom de Monty Python, pas du serpent.\n",
            "L'une des forces de Python est sa communauté diversifiée et solidaire.\n"
          ]
        }
      ]
    },
    {
      "cell_type": "code",
      "source": [
        "nom = \"master telecom\"\n",
        "print(nom.title())"
      ],
      "metadata": {
        "colab": {
          "base_uri": "https://localhost:8080/"
        },
        "id": "ORf_stbC0hmm",
        "outputId": "ed6266be-c26c-4cc1-f1b5-17950e1bfd3e"
      },
      "execution_count": null,
      "outputs": [
        {
          "output_type": "stream",
          "name": "stdout",
          "text": [
            "Master Telecom\n"
          ]
        }
      ]
    },
    {
      "cell_type": "code",
      "source": [
        "nom = \"Master Telecom\"\n",
        "print(nom.upper())\n",
        "print(nom.lower())"
      ],
      "metadata": {
        "colab": {
          "base_uri": "https://localhost:8080/"
        },
        "id": "kbNIEs8U1oWT",
        "outputId": "93011b7b-7335-4bb5-8eff-64085a2dbd27"
      },
      "execution_count": null,
      "outputs": [
        {
          "output_type": "stream",
          "name": "stdout",
          "text": [
            "MASTER TELECOM\n",
            "master telecom\n"
          ]
        }
      ]
    },
    {
      "cell_type": "code",
      "source": [
        "first_name = \"ould\"\n",
        "middle_name = \"sidilamine\"\n",
        "last_name = \"Mohamed\"\n",
        "full_name = first_name + \" \" + middle_name +\" \"+ last_name\n",
        "print(full_name)"
      ],
      "metadata": {
        "colab": {
          "base_uri": "https://localhost:8080/"
        },
        "id": "8pORUbFl4SG6",
        "outputId": "5a183533-69d4-4f6f-a11e-00d474a394f5"
      },
      "execution_count": null,
      "outputs": [
        {
          "output_type": "stream",
          "name": "stdout",
          "text": [
            "ould sidilamine Mohamed\n"
          ]
        }
      ]
    },
    {
      "cell_type": "code",
      "source": [
        "last_name = \"Mohamed\"\n",
        "msg = f\"oul sidilamine {last_name.title()}\"\n",
        "print(msg)\n",
        "msg = f\"oul sidilamine Mohamed\"\n",
        "print (msg)"
      ],
      "metadata": {
        "colab": {
          "base_uri": "https://localhost:8080/"
        },
        "id": "UpMu5jB4mfbI",
        "outputId": "4f5d4988-d45d-4737-c637-3642c461afdf"
      },
      "execution_count": null,
      "outputs": [
        {
          "output_type": "stream",
          "name": "stdout",
          "text": [
            "oul sidilamine Mohamed\n",
            "oul sidilamine Mohamed\n"
          ]
        }
      ]
    },
    {
      "cell_type": "code",
      "source": [
        "  print(\"Python\")\n",
        "  print(\"\\tPython\")"
      ],
      "metadata": {
        "colab": {
          "base_uri": "https://localhost:8080/"
        },
        "id": "Ic3jkZMj6Vfm",
        "outputId": "a0934eae-5842-46e4-eef5-dad99ef9c3bb"
      },
      "execution_count": null,
      "outputs": [
        {
          "output_type": "stream",
          "name": "stdout",
          "text": [
            "Python\n",
            "\tPython\n"
          ]
        }
      ]
    },
    {
      "cell_type": "code",
      "source": [
        "print(\"Langages:\\nPython\\cC\\nProlog\")"
      ],
      "metadata": {
        "colab": {
          "base_uri": "https://localhost:8080/"
        },
        "id": "AjgUQBK07Bks",
        "outputId": "86cfbd60-3f19-43d1-ae50-3a41acf4b45f"
      },
      "execution_count": null,
      "outputs": [
        {
          "output_type": "stream",
          "name": "stdout",
          "text": [
            "Langages:\n",
            "Python\\cC\n",
            "Prolog\n"
          ]
        }
      ]
    },
    {
      "cell_type": "code",
      "source": [
        "print(\"Langages:\\n\\t\\tC\\nPython\\cC\\nProlog\")"
      ],
      "metadata": {
        "colab": {
          "base_uri": "https://localhost:8080/"
        },
        "id": "QdZCq3Fs7wWY",
        "outputId": "f92b0359-4034-4daf-a80f-46998facdfa2"
      },
      "execution_count": null,
      "outputs": [
        {
          "output_type": "stream",
          "name": "stdout",
          "text": [
            "Langages:\n",
            "\t\tC\n",
            "Python\\cC\n",
            "Prolog\n"
          ]
        }
      ]
    },
    {
      "cell_type": "code",
      "source": [
        "langage_favoris = 'Python'\n",
        "langage_favoris\n",
        "langage_favoris.rstrip()"
      ],
      "metadata": {
        "colab": {
          "base_uri": "https://localhost:8080/",
          "height": 35
        },
        "id": "r0blbTXa8prl",
        "outputId": "d0869dad-9ee9-4b3c-f094-3eb642f1c0d3"
      },
      "execution_count": null,
      "outputs": [
        {
          "output_type": "execute_result",
          "data": {
            "text/plain": [
              "'Python'"
            ],
            "application/vnd.google.colaboratory.intrinsic+json": {
              "type": "string"
            }
          },
          "metadata": {},
          "execution_count": 21
        }
      ]
    },
    {
      "cell_type": "code",
      "source": [
        "nom = \" Moussa \"\n",
        "nom\n",
        "nom.strip()"
      ],
      "metadata": {
        "colab": {
          "base_uri": "https://localhost:8080/",
          "height": 35
        },
        "id": "o6_M_Ft1-Bno",
        "outputId": "4b2e27e5-d577-492f-e3c0-ddc7813ca6ec"
      },
      "execution_count": null,
      "outputs": [
        {
          "output_type": "execute_result",
          "data": {
            "text/plain": [
              "'Moussa'"
            ],
            "application/vnd.google.colaboratory.intrinsic+json": {
              "type": "string"
            }
          },
          "metadata": {},
          "execution_count": 23
        }
      ]
    },
    {
      "cell_type": "code",
      "source": [
        "message = \"Salut Mohamed, comment vous allez?\"\n",
        "print(message)"
      ],
      "metadata": {
        "colab": {
          "base_uri": "https://localhost:8080/"
        },
        "id": "zyMw2lgv-36E",
        "outputId": "9b9de596-28a8-42d2-e4a1-d9411eff5b22"
      },
      "execution_count": null,
      "outputs": [
        {
          "output_type": "stream",
          "name": "stdout",
          "text": [
            "Salut Mohamed, comment vous allez?\n"
          ]
        }
      ]
    },
    {
      "cell_type": "code",
      "source": [
        "nom = \"mohamed coulibaly\"\n",
        "print(nom.upper())\n",
        "print(nom.lower())\n",
        "print(nom.title())"
      ],
      "metadata": {
        "colab": {
          "base_uri": "https://localhost:8080/"
        },
        "id": "1jF5B-Hr_oRP",
        "outputId": "65d1e92a-2a02-4eb3-9829-c6d912ac632e"
      },
      "execution_count": null,
      "outputs": [
        {
          "output_type": "stream",
          "name": "stdout",
          "text": [
            "MOHAMED COULIBALY\n",
            "mohamed coulibaly\n",
            "Mohamed Coulibaly\n"
          ]
        }
      ]
    },
    {
      "cell_type": "code",
      "source": [
        "message = \" Mohamed \"\n",
        "print(message)\n"
      ],
      "metadata": {
        "colab": {
          "base_uri": "https://localhost:8080/"
        },
        "id": "Q1Z1X3xjBkDJ",
        "outputId": "d1a1e9dc-961c-40c2-b5dc-957df7e0ec5f"
      },
      "execution_count": null,
      "outputs": [
        {
          "output_type": "stream",
          "name": "stdout",
          "text": [
            " Mohamed \n"
          ]
        }
      ]
    },
    {
      "cell_type": "code",
      "source": [
        "message = \" Mohamed \"\n",
        "print(message.strip())"
      ],
      "metadata": {
        "colab": {
          "base_uri": "https://localhost:8080/"
        },
        "id": "MOWYlDynGz_u",
        "outputId": "06f22fa1-e395-4ff4-a0b4-766c377923b9"
      },
      "execution_count": null,
      "outputs": [
        {
          "output_type": "stream",
          "name": "stdout",
          "text": [
            "Mohamed\n"
          ]
        }
      ]
    },
    {
      "cell_type": "code",
      "source": [
        "message = \" Mohamed \"\n",
        "print(message.strip())"
      ],
      "metadata": {
        "colab": {
          "base_uri": "https://localhost:8080/"
        },
        "id": "2Yg6FycDIHjJ",
        "outputId": "afddc7d2-b94d-468e-e771-fa03ca2b9fc7"
      },
      "execution_count": null,
      "outputs": [
        {
          "output_type": "stream",
          "name": "stdout",
          "text": [
            "Mohamed\n"
          ]
        }
      ]
    },
    {
      "cell_type": "code",
      "source": [
        "nom = \" \\tmohamad moustapha\\n \"\n",
        "print(\"\\nSans modification:\")\n",
        "print(nom)\n",
        "print(\"Avec lstrip():\")\n",
        "print(nom.lstrip())\n",
        "print(\"Avec rstrip():\")\n",
        "print(nom.rstrip())\n",
        "print(\"Avec strip():\")\n",
        "print(nom.strip())\n"
      ],
      "metadata": {
        "colab": {
          "base_uri": "https://localhost:8080/"
        },
        "id": "qa5TysdSIhgv",
        "outputId": "419a2980-a9ef-492d-d92e-7f2b1f86970b"
      },
      "execution_count": null,
      "outputs": [
        {
          "output_type": "stream",
          "name": "stdout",
          "text": [
            "\n",
            "Sans modification:\n",
            " \tmohamad moustapha\n",
            " \n",
            "Avec lstrip():\n",
            "mohamad moustapha\n",
            " \n",
            "Avec rstrip():\n",
            " \tmohamad moustapha\n",
            "Avec strip():\n",
            "mohamad moustapha\n"
          ]
        }
      ]
    },
    {
      "cell_type": "code",
      "source": [
        "age = 23\n",
        "message = \"Joyeux \" + str(age) + \" ème aniversaire!\"\n",
        "msg = f\"Joyeux {age} ème aniversaire\"\n",
        "print(msg)\n",
        "print(message)"
      ],
      "metadata": {
        "colab": {
          "base_uri": "https://localhost:8080/"
        },
        "id": "EhbcppyyNYpf",
        "outputId": "6c5fc8aa-e5f0-4123-fa3e-f3830b620211"
      },
      "execution_count": null,
      "outputs": [
        {
          "output_type": "stream",
          "name": "stdout",
          "text": [
            "Joyeux 23 ème aniversaire\n",
            "Joyeux 23 ème aniversaire!\n"
          ]
        }
      ]
    },
    {
      "cell_type": "code",
      "source": [
        "voitures = ['bmw', 'audit', 'toyota', 'mercedes']\n",
        "voitures.sort()\n",
        "print(voitures)"
      ],
      "metadata": {
        "colab": {
          "base_uri": "https://localhost:8080/"
        },
        "id": "jneJTHWQ12ve",
        "outputId": "ab7966ca-d88a-4297-971a-182ea76ed055"
      },
      "execution_count": 1,
      "outputs": [
        {
          "output_type": "stream",
          "name": "stdout",
          "text": [
            "['audit', 'bmw', 'mercedes', 'toyota']\n"
          ]
        }
      ]
    },
    {
      "cell_type": "code",
      "source": [
        "voitures = ['bmw', 'audit', 'toyota', 'mercedes']\n",
        "print(\"Liste originale\")\n",
        "print(voitures)\n",
        "print(\"\\nListe temporaire\")\n",
        "print(sorted(voitures))\n",
        "print(\"\\nListe originale\")\n",
        "print(voitures)"
      ],
      "metadata": {
        "colab": {
          "base_uri": "https://localhost:8080/"
        },
        "id": "VqFRlMgO4q1J",
        "outputId": "1a1e052e-bdfe-4b71-bbbe-69090bf2545a"
      },
      "execution_count": 3,
      "outputs": [
        {
          "output_type": "stream",
          "name": "stdout",
          "text": [
            "Liste originale\n",
            "['bmw', 'audit', 'toyota', 'mercedes']\n",
            "\n",
            "Liste temporaire\n",
            "['audit', 'bmw', 'mercedes', 'toyota']\n",
            "\n",
            "Liste originale\n",
            "['bmw', 'audit', 'toyota', 'mercedes']\n"
          ]
        }
      ]
    },
    {
      "cell_type": "code",
      "source": [
        "voitures = ['bmw', 'audit', 'toyota', 'mercedes']\n",
        "print(voitures)\n",
        "voitures.reverse()\n",
        "print(voitures)\n",
        "\n"
      ],
      "metadata": {
        "colab": {
          "base_uri": "https://localhost:8080/"
        },
        "id": "uQ2uY-vL659N",
        "outputId": "32569f42-0198-4d24-fc68-ffa5a3697c85"
      },
      "execution_count": 4,
      "outputs": [
        {
          "output_type": "stream",
          "name": "stdout",
          "text": [
            "['bmw', 'audit', 'toyota', 'mercedes']\n",
            "['mercedes', 'toyota', 'audit', 'bmw']\n"
          ]
        }
      ]
    },
    {
      "cell_type": "code",
      "source": [
        "voitures = ['bmw', 'audit', 'toyota', 'mercedes']\n",
        "len(voitures)"
      ],
      "metadata": {
        "colab": {
          "base_uri": "https://localhost:8080/"
        },
        "id": "fT9e7Yx779Fh",
        "outputId": "acda92eb-1a22-4104-b283-a62e95f34d3d"
      },
      "execution_count": 5,
      "outputs": [
        {
          "output_type": "execute_result",
          "data": {
            "text/plain": [
              "4"
            ]
          },
          "metadata": {},
          "execution_count": 5
        }
      ]
    },
    {
      "cell_type": "code",
      "source": [
        "endroits = [\"kayes\", \"koulikoro\", \"ségou\", \"mopti\"]\n",
        "print(\"Liste originale\")\n",
        "print(endroits)\n",
        "print(sorted(endroits))\n",
        "print(\"\\nListe originale\")\n",
        "print(endroits)\n",
        "endroits.reverse()\n",
        "print(endroits)\n",
        "endroits.sort()\n",
        "print(endroits)"
      ],
      "metadata": {
        "colab": {
          "base_uri": "https://localhost:8080/"
        },
        "id": "6WqjdgHr9AZP",
        "outputId": "dcb5bf95-5db7-4c15-bbbb-ce2af567ff1a"
      },
      "execution_count": 10,
      "outputs": [
        {
          "output_type": "stream",
          "name": "stdout",
          "text": [
            "Liste originale\n",
            "['kayes', 'koulikoro', 'ségou', 'mopti']\n",
            "['kayes', 'koulikoro', 'mopti', 'ségou']\n",
            "\n",
            "Liste originale\n",
            "['kayes', 'koulikoro', 'ségou', 'mopti']\n",
            "['mopti', 'ségou', 'koulikoro', 'kayes']\n",
            "['kayes', 'koulikoro', 'mopti', 'ségou']\n"
          ]
        }
      ]
    },
    {
      "cell_type": "code",
      "source": [
        "magiciens = ['karim', 'moussa', 'khaled', 'josephine']\n",
        "for magicien in magiciens:\n",
        "  print(magicien)\n",
        "\n"
      ],
      "metadata": {
        "colab": {
          "base_uri": "https://localhost:8080/"
        },
        "id": "4B6THxdkEc5W",
        "outputId": "70885662-c0c8-4752-cab6-f8c4744a786b"
      },
      "execution_count": 11,
      "outputs": [
        {
          "output_type": "stream",
          "name": "stdout",
          "text": [
            "karim\n",
            "moussa\n",
            "khaled\n",
            "josephine\n"
          ]
        }
      ]
    },
    {
      "cell_type": "code",
      "source": [
        "magiciens = ['karim', 'moussa', 'khaled', 'josephine']\n",
        "for magicien in magiciens:\n",
        "  print(magicien.title() + \", c'était une superbe performance!\")"
      ],
      "metadata": {
        "colab": {
          "base_uri": "https://localhost:8080/"
        },
        "id": "Drb7-vYnGitJ",
        "outputId": "8e3c7c6e-66e2-4a15-b6b2-37a99c3b51d6"
      },
      "execution_count": 12,
      "outputs": [
        {
          "output_type": "stream",
          "name": "stdout",
          "text": [
            "Karim, c'était une superbe performance!\n",
            "Moussa, c'était une superbe performance!\n",
            "Khaled, c'était une superbe performance!\n",
            "Josephine, c'était une superbe performance!\n"
          ]
        }
      ]
    },
    {
      "cell_type": "code",
      "source": [
        "magiciens = ['karim', 'moussa', 'khaled', 'josephine']\n",
        "for magicien in magiciens:\n",
        "  print(magicien.title() + \", c'était une superbe performance!\\n\")\n",
        "  print(magicien.title() + \" j'ai hâte de suivre ta prochaine prestation\\n\")\n",
        "  print(\"Fin de la boucle magiciens\")\n"
      ],
      "metadata": {
        "colab": {
          "base_uri": "https://localhost:8080/"
        },
        "id": "j_0U-pARHcJ1",
        "outputId": "f22a85ca-8bc2-4313-bfd0-281e0cb1e06a"
      },
      "execution_count": 15,
      "outputs": [
        {
          "output_type": "stream",
          "name": "stdout",
          "text": [
            "Karim, c'était une superbe performance!\n",
            "\n",
            "Karim j'ai hâte de suivre ta prochaine prestation\n",
            "\n",
            "Fin de la boucle magiciens\n",
            "Moussa, c'était une superbe performance!\n",
            "\n",
            "Moussa j'ai hâte de suivre ta prochaine prestation\n",
            "\n",
            "Fin de la boucle magiciens\n",
            "Khaled, c'était une superbe performance!\n",
            "\n",
            "Khaled j'ai hâte de suivre ta prochaine prestation\n",
            "\n",
            "Fin de la boucle magiciens\n",
            "Josephine, c'était une superbe performance!\n",
            "\n",
            "Josephine j'ai hâte de suivre ta prochaine prestation\n",
            "\n",
            "Fin de la boucle magiciens\n"
          ]
        }
      ]
    },
    {
      "cell_type": "code",
      "source": [
        "pizzas = ['margherita','pepperoni', 'hawaïenne']\n",
        "for pizza in pizzas:\n",
        "  print(pizza.title() + \", c'était une superbe performance!\\n\")\n",
        "\n",
        "  print(\"Fin de la boucle pizzas\")\n"
      ],
      "metadata": {
        "id": "lp8qUIqlRnQS"
      },
      "execution_count": null,
      "outputs": []
    },
    {
      "cell_type": "code",
      "source": [
        "animaux = ['mouton','chèvre', 'vache']\n",
        "for animal in animaux:\n",
        "  print(animal.title() + \"est un ruminant\\n\")\n",
        "  print(animal.title() + \" est un excelent animal de campagne\\n\")\n",
        "print(\"Fin de la boucle animaux\")"
      ],
      "metadata": {
        "colab": {
          "base_uri": "https://localhost:8080/"
        },
        "id": "Go1gjGXUSzYF",
        "outputId": "a9fefe5d-4e62-4c07-88da-7b3da0e678e2"
      },
      "execution_count": 18,
      "outputs": [
        {
          "output_type": "stream",
          "name": "stdout",
          "text": [
            "Moutonest un ruminant\n",
            "\n",
            "Mouton est un excelent animal de campagne\n",
            "\n",
            "Chèvreest un ruminant\n",
            "\n",
            "Chèvre est un excelent animal de campagne\n",
            "\n",
            "Vacheest un ruminant\n",
            "\n",
            "Vache est un excelent animal de campagne\n",
            "\n",
            "Fin de la boucle animaux\n"
          ]
        }
      ]
    },
    {
      "cell_type": "code",
      "source": [
        "for valeur in range(1,5):\n",
        " print(valeur)"
      ],
      "metadata": {
        "colab": {
          "base_uri": "https://localhost:8080/"
        },
        "id": "n0Hq6idlWC15",
        "outputId": "1de3282d-de1a-4985-8f05-a995f57f54a8"
      },
      "execution_count": 21,
      "outputs": [
        {
          "output_type": "stream",
          "name": "stdout",
          "text": [
            "1\n",
            "2\n",
            "3\n",
            "4\n"
          ]
        }
      ]
    },
    {
      "cell_type": "code",
      "source": [
        "nombres = list(range(1,6))\n",
        "print(nombres)"
      ],
      "metadata": {
        "colab": {
          "base_uri": "https://localhost:8080/"
        },
        "id": "NC6IT5R2WoDj",
        "outputId": "76be0768-3434-4c31-d499-428818c48e8a"
      },
      "execution_count": 23,
      "outputs": [
        {
          "output_type": "stream",
          "name": "stdout",
          "text": [
            "[1, 2, 3, 4, 5]\n"
          ]
        }
      ]
    },
    {
      "cell_type": "code",
      "source": [
        "nbre_pairs = list(range(0,11,2))\n",
        "print(nbre_pairs)"
      ],
      "metadata": {
        "colab": {
          "base_uri": "https://localhost:8080/"
        },
        "id": "lXaqssTJXTg2",
        "outputId": "0faaf0fc-8615-4384-ac51-f55f6120369b"
      },
      "execution_count": 24,
      "outputs": [
        {
          "output_type": "stream",
          "name": "stdout",
          "text": [
            "[0, 2, 4, 6, 8, 10]\n"
          ]
        }
      ]
    }
  ]
}